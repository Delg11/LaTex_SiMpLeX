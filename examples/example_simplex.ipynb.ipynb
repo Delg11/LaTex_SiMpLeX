{
  "nbformat": 4,
  "nbformat_minor": 0,
  "metadata": {
    "colab": {
      "provenance": []
    },
    "kernelspec": {
      "name": "python3",
      "display_name": "Python 3"
    },
    "language_info": {
      "name": "python"
    }
  },
  "cells": [
    {
      "cell_type": "code",
      "execution_count": 2,
      "metadata": {
        "colab": {
          "base_uri": "https://localhost:8080/",
          "height": 1000
        },
        "id": "tnlRRONJXESJ",
        "outputId": "f4a9645f-a30e-46b6-e84e-b6878ba23eb4"
      },
      "outputs": [
        {
          "output_type": "stream",
          "name": "stdout",
          "text": [
            "Basic variables: ['x_1', 'x_2', '-Z']\n",
            "Initial Tableau: [[1, -2, 1, 0, 4], [-1, 1, 0, 1, 3], [-1, -3, 0, 0, 0]]\n"
          ]
        },
        {
          "output_type": "display_data",
          "data": {
            "text/plain": [
              "<IPython.core.display.Math object>"
            ],
            "text/latex": "$\\displaystyle \\text{Tableau inicial:}\n\\[\n\\begin{array}{|c|cccc|c|}\n\\hline\n\\text{VB} & x_1 & x_2 & x_3 & x_4 & \\text{b} \\\\\n\\hline\n{x_1} & 1 & -2 & 1 & 0 & 4 \\\\\n{x_2} & -1 & 1 & 0 & 1 & 3 \\\\\n\\hline\n\\text{-Z} & -1 & -3 & 0 & 0 & 0 \\\\\n\\hline\n\\end{array}\n\\]\nTableau após pivoteamento inicial para forma canônica:\n\\[\n\\begin{array}{|c|cccc|c|}\n\\hline\n\\text{VB} & x_1 & x_2 & x_3 & x_4 & \\text{b} \\\\\n\\hline\n{x_1} & 1 & 0 & -1 & -2 & -10 \\\\\n{x_2} & 0 & 1 & -1 & -1 & -7 \\\\\n\\hline\n\\text{-Z} & 0 & 0 & -4 & -5 & -31 \\\\\n\\hline\n\\end{array}\n\\]\n\n\\text{Iteração 1:}\n\\text{Solução ilimitada: nenhum coeficiente positivo na coluna pivô.}$"
          },
          "metadata": {}
        },
        {
          "output_type": "stream",
          "name": "stdout",
          "text": [
            "Basic variables: ['x_1', '-Z']\n",
            "Initial Tableau: [[1, 1, 1, 1], [-1, -1, 0, 0]]\n"
          ]
        },
        {
          "output_type": "display_data",
          "data": {
            "text/plain": [
              "<IPython.core.display.Math object>"
            ],
            "text/latex": "$\\displaystyle \\text{Simplex Solution:}\\text{Tableau inicial:}\n\\[\n\\begin{array}{|c|ccc|c|}\n\\hline\n\\text{VB} & x_1 & x_2 & x_3 & \\text{b} \\\\\n\\hline\n{x_1} & 1 & 1 & 1 & 1 \\\\\n\\hline\n\\text{-Z} & -1 & -1 & 0 & 0 \\\\\n\\hline\n\\end{array}\n\\]\nTableau após pivoteamento inicial para forma canônica:\n\\[\n\\begin{array}{|c|ccc|c|}\n\\hline\n\\text{VB} & x_1 & x_2 & x_3 & \\text{b} \\\\\n\\hline\n{x_1} & 1 & 1 & 1 & 1 \\\\\n\\hline\n\\text{-Z} & -1 & -1 & 0 & 0 \\\\\n\\hline\n\\end{array}\n\\]\n\n\\text{Iteração 1:}\n\\text{Candidato a entrar na base: } \\(x_1\\).\\\\\n\\text{Teste da razão para verificar quem sai da base:}\\\\\n\\( { \\color{red}{x_1:\\dfrac{1}{1}=1} } \\)\\\\\n\\text{Candidato a sair da base: } \\(x_1\\).\\\\\n\n\\text{Novo Tableau:}\n\\[\n\\begin{array}{|c|ccc|c|}\n\\hline\n\\text{VB} & x_1 & x_2 & x_3 & \\text{b} \\\\\n\\hline\n{x_1} & 1 & 1 & 1 & 1 \\\\\n\\hline\n\\text{-Z} & 0 & 0 & 1 & 1 \\\\\n\\hline\n\\end{array}\n\\]\n\n\\text{Iteração 2:}\nNenhum coeficiente negativo para variáveis não básicas na linha do objetivo. Solução ótima alcançada.\nComo não temos mais valores de custo negativo, a solução atual,  \\(z=-1\\), é ótima. \nNote que o custo de \\(x_2\\) é zero, indicando que \\(\\left(1,0,0\\right)^T\\) {\\color{red}{não}} é a única partição básica ótima.$"
          },
          "metadata": {}
        }
      ],
      "source": [
        "from IPython.display import display, Math\n",
        "import re\n",
        "from fractions import Fraction\n",
        "\n",
        "# Import the functions from your code (assuming saved as simplex_solver.py)\n",
        "from simplex_solver import solve_simplex\n",
        "\n",
        "# Minimal example input (in standard form with equality constraints)\n",
        "latex_input = r\"\"\"\n",
        "\\displaystyle \\text{Min -Z} &= -x_1 - x_2 \\\\\n",
        "\\text{sujeito a:}\n",
        "&\\quad x_1 + x_2 + x_3 = 1 \\\\\n",
        "&\\quad x_1, x_2, x_3 \\geq 0\n",
        "\"\"\"\n",
        "\n",
        "# Solve the problem using Simplex\n",
        "result = solve_simplex(latex_input)\n",
        "\n",
        "# Display the result\n",
        "display(Math('\\\\text{Simplex Solution:}' + result))"
      ]
    }
  ]
}