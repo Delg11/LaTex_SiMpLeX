{
  "nbformat": 4,
  "nbformat_minor": 0,
  "metadata": {
    "colab": {
      "provenance": []
    },
    "kernelspec": {
      "name": "python3",
      "display_name": "Python 3"
    },
    "language_info": {
      "name": "python"
    }
  },
  "cells": [
    {
      "cell_type": "code",
      "execution_count": 1,
      "metadata": {
        "colab": {
          "base_uri": "https://localhost:8080/",
          "height": 211
        },
        "id": "tnlRRONJXESJ",
        "outputId": "f3517cc1-9032-4e78-e272-369ae4b2f40e"
      },
      "outputs": [
        {
          "output_type": "display_data",
          "data": {
            "text/plain": [
              "<IPython.core.display.Math object>"
            ],
            "text/latex": "$\\displaystyle \\text{Problem } 1:$"
          },
          "metadata": {}
        },
        {
          "output_type": "display_data",
          "data": {
            "text/plain": [
              "<IPython.core.display.Math object>"
            ],
            "text/latex": "$\\displaystyle \\text{Min -Z} &= -500x_1 - 300x_2 \\\\\n\\text{sujeito a:} \n&\\quad 15x_1 + 5x_2 + x_3 = 300 \\\\\n&\\quad 10x_1 + 6x_2 + x_4 = 240 \\\\\n&\\quad 8x_1 + 12x_2 + x_5 = 450 \\\\\n&\\quad x_1, x_2, x_3, x_4, x_5 \\geq 0$"
          },
          "metadata": {}
        },
        {
          "output_type": "display_data",
          "data": {
            "text/plain": [
              "<IPython.core.display.Math object>"
            ],
            "text/latex": "$\\displaystyle \\text{Problem in Standard Form:}\\text{Min -Z} &= -2x_1 - x_2 \\\\\n\\text{sujeito a:} \n&\\quad x_1 + x_2 + x_3 = 1 \\\\\n&\\quad x_1, x_2, x_3 \\geq 0$"
          },
          "metadata": {}
        }
      ],
      "source": [
        "import re\n",
        "from IPython.display import display, Math\n",
        "\n",
        "# Import the functions from your code (assuming saved as lp_parser.py)\n",
        "from lp_parser import process_linear_program\n",
        "\n",
        "# Minimal example input\n",
        "latex_input = r\"\"\"\n",
        "\\text{Max Z} &= 2x_1 + x_2 \\\\\n",
        "\\text{sujeito a:}&\\quad x_1 + x_2 \\leq 1 \\\\\n",
        "&\\quad x_1, x_2 \\geq 0\n",
        "\"\"\"\n",
        "\n",
        "# Process the problem\n",
        "result = process_linear_program(latex_input)\n",
        "\n",
        "# Display the result\n",
        "display(Math('\\\\text{Problem in Standard Form:}' + result))"
      ]
    }
  ]
}